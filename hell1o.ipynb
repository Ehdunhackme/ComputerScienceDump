{
 "cells": [
  {
   "cell_type": "code",
   "execution_count": 2,
   "metadata": {},
   "outputs": [
    {
     "data": {
      "text/plain": [
       "1.2000000000000002"
      ]
     },
     "execution_count": 2,
     "metadata": {},
     "output_type": "execute_result"
    }
   ],
   "source": [
    "a=3\n",
    "b=0.4\n",
    "a*b"
   ]
  },
  {
   "cell_type": "code",
   "execution_count": 2,
   "metadata": {},
   "outputs": [
    {
     "ename": "IndentationError",
     "evalue": "unindent does not match any outer indentation level (<tokenize>, line 28)",
     "output_type": "error",
     "traceback": [
      "\u001b[1;36m  File \u001b[1;32m<tokenize>:28\u001b[1;36m\u001b[0m\n\u001b[1;33m    …\u001b[0m\n\u001b[1;37m    ^\u001b[0m\n\u001b[1;31mIndentationError\u001b[0m\u001b[1;31m:\u001b[0m unindent does not match any outer indentation level\n"
     ]
    }
   ],
   "source": [
    "[14:34, 19/04/2024] +60 12-428 2345: import numpy as np\n",
    "import matplotlib.pyplot as plt\n",
    "\n",
    "def h(x):\n",
    "    if x<-1 or x>1:\n",
    "        y=0\n",
    "    else:\n",
    "        y=(np.cos(50*x)+np.sin(20*x)) #cos, sin in rad\n",
    "        #y=-x**2\n",
    "    return y\n",
    "\n",
    "hv=np.vectorize(h)\n",
    "X=np.linspace(-1, 1, num=1000) #get 1000 pts from -1 to 2\n",
    "plt.plot(X, hv(X)) #X is 1000 pts, hv(X) is also 1000 values. [5.20207778e-02,  2.80566244e-02...]\n",
    "\n",
    "def hillclimbing_search (func, start=0, N=100):\n",
    "    x=start\n",
    "    history=[]\n",
    "    for i in range (N):\n",
    "        history.append(x) ## keep track of steps\n",
    "        u=0.001\n",
    "        xleft, xright =x-u, x+u  # 0.25-0.001, 0.25+0.001\n",
    "        yleft, yright = func(xleft), func(xright) #\n",
    "        if yleft > yright: #If greater find max, if smaller find min\n",
    "            x=xleft\n",
    "        else:\n",
    "            x=xright\n",
    "   …\n",
    "[16:13, 19/04/2024] +60 12-428 2345: #SA\n",
    "import numpy as np\n",
    "import matplotlib.pyplot as plt\n",
    "\n",
    "def h(x):\n",
    "    if x<-1 or x>1:\n",
    "        y=0\n",
    "    else:\n",
    "        y=(np.cos(50*x)+np.sin(20*x)) # cos, sin in rad\n",
    "    return y\n",
    "\n",
    "hv=np.vectorize(h)\n",
    "X=np.linspace(-1, 1, num=1000)\n",
    "plt.plot(X, hv(X))\n",
    "\n",
    "def SA(search_space, func, T):\n",
    "    scale = np.sqrt(T)\n",
    "    start=np.random.choice(search_space)\n",
    "    x=start*1\n",
    "    cur=func(x)\n",
    "    history=[x]\n",
    "    for i in range (1000):\n",
    "        prop = x + np.random.normal()*scale\n",
    "        if prop > 1 or prop < 0 or np.log(np.random.rand())*T>(func(prop)-cur):\n",
    "            prop=x\n",
    "        x=prop\n",
    "        cur=func(x)\n",
    "        T=0.9 * T\n",
    "        history.append(x)\n",
    "    return x, history\n",
    "\n",
    "X=np.linspace(-1, 1, num=1000)\n",
    "x1, history = SA(X, h, T=4)\n",
    "plt.plot(X, hv(X))\n",
    "plt.scatter(x1, hv(x1), marker ='x')\n",
    "plt.plot(history, hv(history))\n",
    "[15:16, 26/04/2024] +60 12-428 2345: # Gary Khaw\n",
    "import math\n",
    "import struct\n",
    "from random import random\n",
    "import random\n",
    "import itertools\n",
    "import numpy as np\n",
    "import matplotlib.pyplot as plt\n",
    "from numpy.random import default_rng\n",
    "import time\n",
    "\n",
    "#parameter adjustment\n",
    "POPULATION_SIZE = 200\n",
    "BIT = 16\n",
    "MUTATION_RATE = 0.25\n",
    "CROSS_OVERRATE = 0.2\n",
    "NO_GENERATION = 10\n",
    "GOAL = 0.08\n",
    "SAME_FOR_HOWMANY_GEN = 300\n",
    "weight_bias = 100\n",
    "TYPE_TERMINATION = \"S\" #N for by generation number, G for by fitness value, # S for times of repeating solution\n",
    "TYPE_SELECTION = \"t\"  # r for roulette wheel; t for tournament\n",
    "TYPE_CROSSOVER = 1  # 1 for single; 2 for multiple; 3 for uniform\n",
    "MIN = 0\n",
    "MAX = 20\n",
    "\n",
    "\n",
    "def population_generator(size):\n",
    "    return np.random.randint(0, 2, size)\n",
    "\n",
    "class Individual:\n",
    "    def _init_(self, chromosome):\n",
    "        self.chromosome = chromosome\n",
    "        self.square = self.normalize(self.chromosome[0])\n",
    "        self.triangle = self.normalize(self.chromosome[1])\n",
    "        self.circle = self.normalize(self.chromosome[2])\n",
    "        self.fitness = self.fitness_function()\n",
    "\n",
    "    def _lt_(self, other):\n",
    "        return self.fitness < other.fitness\n",
    "\n",
    "    def bit_to_dec(self, value):\n",
    "        return sum(val * (2 ** idx) for idx, val in enumerate(reversed(value)))\n",
    "\n",
    "\n",
    "    def normalize(self, value):\n",
    "        return (MIN + (self.bit_to_dec(value)* (MAX-MIN))/(2**BIT - 1))\n",
    "\n",
    "\n",
    "    def getArea(self):\n",
    "        return (self.square / 4) * 2 + ((math.sqrt(3) / 4) * ((self.triangle / 3) * 2)) + (math.pi * (self.circle/ (2*math.pi))**2)\n",
    "\n",
    "    def fitness_function(self):\n",
    "        # contraint\n",
    "        penalty_function = (abs(self.square - self.triangle) +\n",
    "                            abs(self.square + self.triangle + self.circle - 20)) * weight_bias\n",
    "\n",
    "        objective_function = self.getArea() + penalty_function\n",
    "        return 1 / (1 + (abs(objective_function)))\n",
    "\n",
    "\n",
    "\n",
    "#cross over function\n",
    "def single_point_crossover(first, other, point):\n",
    "    child_A = np.append(first[:point], other[point:])\n",
    "    child_B = np.append(other[:point], first[point:])\n",
    "    return child_A, child_B\n",
    "\n",
    "def multi_point_crossover(first, other, point):\n",
    "    child_A = np.copy(first)\n",
    "    child_B = np.copy(other)\n",
    "    for i in point:\n",
    "        child_A, child_B = single_point_crossover(child_A, child_B, i)\n",
    "    return child_A, child_B\n",
    "\n",
    "def uniform_crossover(first, other, probability):\n",
    "    child_A = np.copy(first)\n",
    "    child_B = np.copy(other)\n",
    "\n",
    "    for i in range(len(probability)):\n",
    "        if probability[i] < 0.5:\n",
    "            temp = child_A[i]\n",
    "            child_A[i] = child_B[i]\n",
    "            child_B[i] = temp\n",
    "    return child_A, child_B\n",
    "\n",
    "#selection function\n",
    "def roulette_wheel_selection(population):\n",
    "    total = sum([c.fitness for c in population])\n",
    "    selection_probs = [c.fitness / total for c in population]\n",
    "    return population[np.random.choice(len(population), p=selection_probs)]\n",
    "\n",
    "def tournament_selection(population):\n",
    "    temp = []\n",
    "    temp.extend(population)\n",
    "    winner = []\n",
    "\n",
    "    for i in range(int(len(population) / 2)):\n",
    "        compare = []\n",
    "        rng = default_rng()\n",
    "        two_random = rng.choice(len(temp), size=2, replace=False)\n",
    "        two_random = np.sort(two_random)\n",
    "        compare.append(temp[two_random[0]])\n",
    "        compare.append(temp[two_random[1]])\n",
    "        temp.pop(two_random[1])\n",
    "        temp.pop(two_random[0])\n",
    "        compare.sort(reverse=True)\n",
    "        winner.append(compare[0])\n",
    "\n",
    "    if (len(temp) == 1):\n",
    "        winner.append(temp[0])\n",
    "    return winner\n",
    "\n",
    "#mutation function\n",
    "def mutation(chromo, num=1, m_rate=0.5):\n",
    "    for i in range(num):\n",
    "        index = random.randrange(len(chromo))\n",
    "        chromo[index] = chromo[index] if random.random() > m_rate else abs(chromo[index] - 1)\n",
    "    return chromo\n",
    "\n",
    "#To plot graph\n",
    "def plot_graph(fitness):\n",
    "    plt.title(\"Total generation \" + str(NO_GENERATION), fontsize=16)\n",
    "    ypoints = fitness\n",
    "    xpoints = np.arange(1, len(fitness) + 1)\n",
    "    plt.plot(xpoints, ypoints)\n",
    "    plt.xlabel(\"Number of Generation\")\n",
    "    plt.xlabel(\"Fitness Score\")\n",
    "    plt.show()\n",
    "\n",
    "def subplot_graph(fitness1, fitness2):\n",
    "    plt.title(\"Total generation \", fontsize=16)\n",
    "    plt.xlabel(\"Number of Generation\")\n",
    "    plt.ylabel(\"Fitness Score\")\n",
    "    plt.legend()\n",
    "\n",
    "    xpoints = np.arange(1, len(fitness1) + 1)\n",
    "    plt.plot(xpoints, fitness1, label=\"Top\")\n",
    "    plt.plot(xpoints, fitness2, label=\"Average\")\n",
    "    plt.legend()\n",
    "    plt.show()\n",
    "\n",
    "#main function\n",
    "def main():\n",
    "    #get intial run time\n",
    "    st = time.time()\n",
    "    #generate population of 3 set list of chromosome with BIT length of gene\n",
    "    population = []\n",
    "    for i in range(POPULATION_SIZE):\n",
    "        population.append(Individual(population_generator([3, BIT])))\n",
    "\n",
    "    counter = 1\n",
    "    each_genTop = np.array([])\n",
    "    each_genAverage = np.array([])\n",
    "    last_gen = 0\n",
    "    counter_gen = 0\n",
    "\n",
    "    #flag to end the loop\n",
    "    flag = True\n",
    "    while flag:\n",
    "        #selection\n",
    "        if (TYPE_SELECTION == \"r\"):  # roulette wheel\n",
    "            potential_parent = np.array([])\n",
    "            for i in range(0, POPULATION_SIZE):\n",
    "                potential_parent = np.append(potential_parent, roulette_wheel_selection(population))\n",
    "        else:  # tournament\n",
    "            potential_parent = np.array([tournament_selection(population)])\n",
    "            if (len(potential_parent) == 1):\n",
    "                potential_parent = population\n",
    "\n",
    "        # determine number of chromosome for crossover\n",
    "        cross_breed = np.array([])\n",
    "        for indi in potential_parent:\n",
    "            if (random.uniform(0, 1) < CROSS_OVERRATE):\n",
    "                cross_breed = np.append(cross_breed, indi)\n",
    "        offspring = np.array([])\n",
    "        parent = list(itertools.combinations(cross_breed, 2))\n",
    "\n",
    "        #cross over\n",
    "        if (TYPE_CROSSOVER == 1):  # single point\n",
    "            for x in parent:\n",
    "                point = random.randint(1, (len(x[0].chromosome[0]) ) - 1)\n",
    "                s1, s2 = single_point_crossover(x[0].chromosome[0], x[1].chromosome[0], point)\n",
    "                t1, t2 = single_point_crossover(x[0].chromosome[1], x[1].chromosome[1], point)\n",
    "                c1, c2 = single_point_crossover(x[0].chromosome[2], x[1].chromosome[2], point)\n",
    "\n",
    "                child_A = (np.array([mutation(s1, random.randint(0, len(s1) - 1), MUTATION_RATE),\n",
    "                                mutation(t1, random.randint(0, len(t1) - 1), MUTATION_RATE),\n",
    "                                mutation(c1, random.randint(0, len(c1) - 1), MUTATION_RATE)]))\n",
    "\n",
    "                child_B = (np.array([mutation(s2, random.randint(0, len(s2) - 1), MUTATION_RATE),\n",
    "                                     mutation(t2, random.randint(0, len(t2) - 1), MUTATION_RATE),\n",
    "                                     mutation(c2, random.randint(0, len(c2) - 1), MUTATION_RATE)]))\n",
    "                offspring = np.append(offspring, Individual(child_A))\n",
    "                offspring = np.append(offspring, Individual(child_B))\n",
    "        elif (TYPE_CROSSOVER == 2):  # multiple point\n",
    "            for x in parent:\n",
    "                point = np.array([4, 5])\n",
    "                s1, s2 = multi_point_crossover(x[0].chromosome[0], x[1].chromosome[0], point)\n",
    "                t1, t2 = multi_point_crossover(x[0].chromosome[1], x[1].chromosome[1], point)\n",
    "                c1, c2 = multi_point_crossover(x[0].chromosome[2], x[1].chromosome[2], point)\n",
    "\n",
    "                child_A = (np.array([mutation(s1, random.randint(0, len(s1) - 1), MUTATION_RATE),\n",
    "                                     mutation(t1, random.randint(0, len(t1) - 1), MUTATION_RATE),\n",
    "                                     mutation(c1, random.randint(0, len(c1) - 1), MUTATION_RATE)]))\n",
    "\n",
    "                child_B = (np.array([mutation(s2, random.randint(0, len(s2) - 1), MUTATION_RATE),\n",
    "                                     mutation(t2, random.randint(0, len(t2) - 1), MUTATION_RATE),\n",
    "                                     mutation(c2, random.randint(0, len(c2) - 1), MUTATION_RATE)]))\n",
    "                offspring = np.append(offspring, Individual(child_A))\n",
    "                offspring = np.append(offspring, Individual(child_B))\n",
    "        else:\n",
    "            for x in parent:  # uniform point\n",
    "                point=(np.random.rand((len(x[0].chromosome[0]))))\n",
    "                s1, s2 = uniform_crossover(x[0].chromosome[0], x[1].chromosome[0], point)\n",
    "                t1, t2 = uniform_crossover(x[0].chromosome[1], x[1].chromosome[1], point)\n",
    "                c1, c2 = uniform_crossover(x[0].chromosome[2], x[1].chromosome[2], point)\n",
    "\n",
    "                child_A = (np.array([mutation(s1, random.randint(0, len(s1) - 1), MUTATION_RATE),\n",
    "                                     mutation(t1, random.randint(0, len(t1) - 1), MUTATION_RATE),\n",
    "                                     mutation(c1, random.randint(0, len(c1) - 1), MUTATION_RATE)]))\n",
    "\n",
    "                child_B = (np.array([mutation(s2, random.randint(0, len(s2) - 1), MUTATION_RATE),\n",
    "                                     mutation(t2, random.randint(0, len(t2) - 1), MUTATION_RATE),\n",
    "                                     mutation(c2, random.randint(0, len(c2) - 1), MUTATION_RATE)]))\n",
    "                offspring = np.append(offspring, Individual(child_A))\n",
    "                offspring = np.append(offspring, Individual(child_B))\n",
    "\n",
    "        population.extend(offspring)\n",
    "        # remove duplicate\n",
    "        remove_dup = set(population)\n",
    "        population = list(remove_dup)\n",
    "        #sort by descending order\n",
    "        population.sort(reverse=True)\n",
    "        temp = population[0:POPULATION_SIZE]  # pick the top best\n",
    "        population = temp  # pick top best\n",
    "\n",
    "        each_genTop = np.append(each_genTop, population[0])\n",
    "        vectorized_x = np.vectorize(lambda obj: obj.fitness)\n",
    "        each_genAverage = np.append(each_genAverage, np.average(vectorized_x(population)))\n",
    "        print(\"-----------------------------------------------\")\n",
    "        print('Generation: {}\\nTop fitness: {:.4f}, Minimum area: {:.4f}, '\n",
    "              'Square perimeter: {:.4f}, Triangle perimeter: {:.4f}, Circle Circumferences: {:.4f}'\n",
    "                .format(counter, population[0].fitness_function(),population[0].getArea(),population[0].square,population[0].triangle,population[0].circle))\n",
    "\n",
    "        constraint1 = abs(population[0].square - population[0].triangle)\n",
    "        constraint2 = abs(population[0].square + population[0].triangle + population[0].circle - 20)\n",
    "        totalPeri = population[0].square + population[0].triangle + population[0].circle\n",
    "        if(constraint1 == 0 and constraint2 == 0):\n",
    "            print(\"All constraint meant\")\n",
    "        else:\n",
    "            print(\"Total perimeter at: \", end = \"\")\n",
    "            print(totalPeri)\n",
    "            print(\"Square and Triangle perimeter differences: \", end = \"\")\n",
    "            print(constraint1)\n",
    "\n",
    "        if (last_gen == population[0].fitness):\n",
    "            counter_gen += 1\n",
    "        else:\n",
    "            last_gen = population[0].fitness\n",
    "            counter_gen = 0\n",
    "\n",
    "        #termination method\n",
    "        if(TYPE_TERMINATION == \"N\"): #by number of generation\n",
    "            if (counter >= NO_GENERATION):\n",
    "                flag = False\n",
    "        elif(TYPE_TERMINATION == \"G\"): #by fitness goal\n",
    "            if (population[0].fitness >= GOAL):\n",
    "                flag = False\n",
    "        elif(TYPE_TERMINATION == \"S\"):#by numbers of repeating result\n",
    "            if (counter_gen >= SAME_FOR_HOWMANY_GEN - 1):\n",
    "                flag = False\n",
    "\n",
    "        counter += 1\n",
    "\n",
    "    #end time\n",
    "    et = time.time()\n",
    "    elapsed_time = et - st\n",
    "    #get execution time\n",
    "    print('Execution time:', elapsed_time, 'seconds')\n",
    "    #plot\n",
    "    vectorized_x = np.vectorize(lambda obj: obj.fitness)\n",
    "    subplot_graph(vectorized_x(each_genTop), each_genAverage)\n",
    "\n",
    "\n",
    "# Press the green button in the gutter to run the script.\n",
    "if _name_ == '_main_':\n",
    "    main()"
   ]
  },
  {
   "cell_type": "code",
   "execution_count": 4,
   "metadata": {},
   "outputs": [
    {
     "name": "stdout",
     "output_type": "stream",
     "text": [
      "hello, How are you?\n"
     ]
    }
   ],
   "source": [
    "str1=\"hello\"\n",
    "str2=\"How are you?\"\n",
    "sum_str=str1+\", \"+str2\n",
    "\n",
    "print(sum_str)\n",
    "\n"
   ]
  },
  {
   "cell_type": "code",
   "execution_count": 5,
   "metadata": {},
   "outputs": [
    {
     "name": "stdout",
     "output_type": "stream",
     "text": [
      "hello,\n",
      "How are you?\n"
     ]
    }
   ],
   "source": [
    "str1=\"hello\"\n",
    "str2=\"How are you?\"\n",
    "sum_str=str1+\",\\n\"+str2\n",
    "\n",
    "print(sum_str)\n"
   ]
  },
  {
   "cell_type": "code",
   "execution_count": null,
   "metadata": {},
   "outputs": [],
   "source": [
    "a=\"HELLO\"\n",
    "print(a.lower())\n",
    "\n",
    "b=\"HELLO\"\n",
    "print(b.lower())\n",
    "\n",
    "c=len(a)\n",
    "print(c)\n",
    "\n"
   ]
  },
  {
   "cell_type": "code",
   "execution_count": 3,
   "metadata": {},
   "outputs": [
    {
     "name": "stdout",
     "output_type": "stream",
     "text": [
      "10\n"
     ]
    }
   ],
   "source": [
    "num1=int(input(\"Enter your first number:\"))\n",
    "num2=int(input(\"Enter your second number:\"))\n",
    "sum_num=num1+num2\n",
    "\n",
    "print (sum_num)\n"
   ]
  },
  {
   "cell_type": "code",
   "execution_count": 6,
   "metadata": {},
   "outputs": [
    {
     "name": "stdout",
     "output_type": "stream",
     "text": [
      "Hello Naoto!Welcome to the planet earth.\n"
     ]
    }
   ],
   "source": [
    "name=input(\"your name:\")\n",
    "str1=\"Hello \"+name+\"!\"\n",
    "str2=\" Welcome to the planet earth.\"\n",
    "sum_str=str1+str2\n",
    "\n",
    "print(sum_str)\n"
   ]
  },
  {
   "cell_type": "code",
   "execution_count": 8,
   "metadata": {},
   "outputs": [
    {
     "name": "stdout",
     "output_type": "stream",
     "text": [
      "16.0\n"
     ]
    }
   ],
   "source": [
    "str1=float(input(\"Length:\"))\n",
    "str2=float(input(\"Width:\"))\n",
    "\n",
    "sum_str=2*(str1+str2)\n",
    "\n",
    "print(sum_str)"
   ]
  },
  {
   "cell_type": "code",
   "execution_count": 9,
   "metadata": {},
   "outputs": [
    {
     "name": "stdout",
     "output_type": "stream",
     "text": [
      "Circumference of the circle is:  62.83\n",
      "Area of the circle is:  314.16\n"
     ]
    }
   ],
   "source": [
    "import math\n",
    "radius = float(input(\"Enter the radius of the circle: \"))\n",
    "circumference = 2 * math.pi * radius\n",
    "area = math.pi * radius ** 2\n",
    "print(\"Circumference of the circle is: \", round(circumference, 2))\n",
    "print(\"Area of the circle is: \", round(area, 2))"
   ]
  },
  {
   "cell_type": "code",
   "execution_count": 10,
   "metadata": {},
   "outputs": [
    {
     "data": {
      "text/plain": [
       "array([5, 7, 9])"
      ]
     },
     "execution_count": 10,
     "metadata": {},
     "output_type": "execute_result"
    }
   ],
   "source": [
    "import numpy as np\n",
    "a=[1,2,3]\n",
    "b=[4,5,6]\n",
    "np.add(a,b)"
   ]
  },
  {
   "cell_type": "code",
   "execution_count": 14,
   "metadata": {},
   "outputs": [
    {
     "name": "stdout",
     "output_type": "stream",
     "text": [
      "0\n",
      "2\n"
     ]
    }
   ],
   "source": [
    "for x in range (0, 4, 2):\n",
    "    print(x)"
   ]
  },
  {
   "cell_type": "code",
   "execution_count": 16,
   "metadata": {},
   "outputs": [
    {
     "name": "stdout",
     "output_type": "stream",
     "text": [
      "0  squared is:  0\n",
      "1  squared is:  1\n",
      "2  squared is:  4\n",
      "3  squared is:  9\n",
      "4  squared is:  16\n",
      "5  squared is:  25\n",
      "6  squared is:  36\n",
      "7  squared is:  49\n",
      "8  squared is:  64\n",
      "9  squared is:  81\n",
      "10  squared is:  100\n",
      "11  squared is:  121\n",
      "12  squared is:  144\n",
      "13  squared is:  169\n",
      "14  squared is:  196\n",
      "15  squared is:  225\n",
      "16  squared is:  256\n",
      "17  squared is:  289\n",
      "18  squared is:  324\n"
     ]
    }
   ],
   "source": [
    "for x in range(0,19):\n",
    "    print (x,\" squared is: \", x*x)"
   ]
  },
  {
   "cell_type": "code",
   "execution_count": 17,
   "metadata": {},
   "outputs": [
    {
     "name": "stdout",
     "output_type": "stream",
     "text": [
      "1\n",
      "2\n",
      "3\n",
      "4\n"
     ]
    }
   ],
   "source": [
    "a=1\n",
    "while a<5:\n",
    "    print(a)\n",
    "    a=a+1"
   ]
  },
  {
   "cell_type": "code",
   "execution_count": 18,
   "metadata": {},
   "outputs": [
    {
     "name": "stdout",
     "output_type": "stream",
     "text": [
      "hello\n",
      "hello\n",
      "hello\n",
      "hello\n",
      "hello\n"
     ]
    }
   ],
   "source": [
    "message = input(\"Enter the message: \")\n",
    "num_times = int(input(\"Enter the number of times: \"))\n",
    "for i in range(num_times):\n",
    "  print(message)\n"
   ]
  },
  {
   "cell_type": "code",
   "execution_count": 19,
   "metadata": {},
   "outputs": [
    {
     "name": "stdout",
     "output_type": "stream",
     "text": [
      "x is less than y\n"
     ]
    }
   ],
   "source": [
    "x = 10\n",
    "y = 15\n",
    "\n",
    "if x > y:\n",
    "  print(\"x is greater than y\")\n",
    "elif x < y:\n",
    "  print(\"x is less than y\")\n",
    "else:\n",
    "  print(\"x is equal to y\")\n"
   ]
  },
  {
   "cell_type": "code",
   "execution_count": 20,
   "metadata": {},
   "outputs": [
    {
     "name": "stdout",
     "output_type": "stream",
     "text": [
      "x is equal to y\n"
     ]
    }
   ],
   "source": [
    "x = int(input(\"Enter the first number: \"))\n",
    "y = int(input(\"Enter the second number: \"))\n",
    "\n",
    "if x > y:\n",
    "    print(\"x is greater than y\")\n",
    "elif x < y:\n",
    "    print(\"x is less than y\")\n",
    "else:\n",
    "    print(\"x is equal to y\")"
   ]
  },
  {
   "cell_type": "code",
   "execution_count": 23,
   "metadata": {},
   "outputs": [
    {
     "name": "stdout",
     "output_type": "stream",
     "text": [
      "Please provide a valid input.\n"
     ]
    }
   ],
   "source": [
    "def calculate_bmi(weight, height):\n",
    "\n",
    "  if weight <= 0 or height <= 0:\n",
    "    print(\"Please provide a valid input.\")\n",
    "    return\n",
    "\n",
    "  bmi = weight / (height * height)\n",
    "  return round(bmi, 1)\n",
    "\n",
    "def get_bmi_risk(bmi):\n",
    "\n",
    "  if bmi < 18.5:\n",
    "    return \"Underweight\"\n",
    "  elif bmi < 25:\n",
    "    return \"Normal\"\n",
    "  elif bmi < 30:\n",
    "    return \"Overweight\"\n",
    "  else:\n",
    "    return \"Obese\"\n",
    "\n",
    "weight = float(input(\"Enter your weight in kilograms: \"))\n",
    "height = float(input(\"Enter your height in meters: \"))\n",
    "\n",
    "bmi = calculate_bmi(weight, height)\n",
    "\n",
    "if bmi is not None:\n",
    "  print(f\"Your BMI is {bmi}.\")\n",
    "  print(f\"Your BMI risk is {get_bmi_risk(bmi)}.\")\n"
   ]
  }
 ],
 "metadata": {
  "kernelspec": {
   "display_name": "Python 3",
   "language": "python",
   "name": "python3"
  },
  "language_info": {
   "codemirror_mode": {
    "name": "ipython",
    "version": 3
   },
   "file_extension": ".py",
   "mimetype": "text/x-python",
   "name": "python",
   "nbconvert_exporter": "python",
   "pygments_lexer": "ipython3",
   "version": "3.11.0"
  }
 },
 "nbformat": 4,
 "nbformat_minor": 2
}
