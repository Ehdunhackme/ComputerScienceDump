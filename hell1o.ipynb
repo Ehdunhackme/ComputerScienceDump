{
 "cells": [
  {
   "cell_type": "code",
   "execution_count": 2,
   "metadata": {},
   "outputs": [
    {
     "data": {
      "text/plain": [
       "1.2000000000000002"
      ]
     },
     "execution_count": 2,
     "metadata": {},
     "output_type": "execute_result"
    }
   ],
   "source": [
    "a=3\n",
    "b=0.4\n",
    "a*b"
   ]
  },
  {
   "cell_type": "code",
   "execution_count": 4,
   "metadata": {},
   "outputs": [
    {
     "name": "stdout",
     "output_type": "stream",
     "text": [
      "hello, How are you?\n"
     ]
    }
   ],
   "source": [
    "str1=\"hello\"\n",
    "str2=\"How are you?\"\n",
    "sum_str=str1+\", \"+str2\n",
    "\n",
    "print(sum_str)\n",
    "\n"
   ]
  },
  {
   "cell_type": "code",
   "execution_count": 5,
   "metadata": {},
   "outputs": [
    {
     "name": "stdout",
     "output_type": "stream",
     "text": [
      "hello,\n",
      "How are you?\n"
     ]
    }
   ],
   "source": [
    "str1=\"hello\"\n",
    "str2=\"How are you?\"\n",
    "sum_str=str1+\",\\n\"+str2\n",
    "\n",
    "print(sum_str)\n"
   ]
  },
  {
   "cell_type": "code",
   "execution_count": null,
   "metadata": {},
   "outputs": [],
   "source": [
    "a=\"HELLO\"\n",
    "print(a.lower())\n",
    "\n",
    "b=\"HELLO\"\n",
    "print(b.lower())\n",
    "\n",
    "c=len(a)\n",
    "print(c)\n",
    "\n"
   ]
  },
  {
   "cell_type": "code",
   "execution_count": 3,
   "metadata": {},
   "outputs": [
    {
     "name": "stdout",
     "output_type": "stream",
     "text": [
      "10\n"
     ]
    }
   ],
   "source": [
    "num1=int(input(\"Enter your first number:\"))\n",
    "num2=int(input(\"Enter your second number:\"))\n",
    "sum_num=num1+num2\n",
    "\n",
    "print (sum_num)\n"
   ]
  },
  {
   "cell_type": "code",
   "execution_count": 6,
   "metadata": {},
   "outputs": [
    {
     "name": "stdout",
     "output_type": "stream",
     "text": [
      "Hello Naoto!Welcome to the planet earth.\n"
     ]
    }
   ],
   "source": [
    "name=input(\"your name:\")\n",
    "str1=\"Hello \"+name+\"!\"\n",
    "str2=\" Welcome to the planet earth.\"\n",
    "sum_str=str1+str2\n",
    "\n",
    "print(sum_str)\n"
   ]
  },
  {
   "cell_type": "code",
   "execution_count": 8,
   "metadata": {},
   "outputs": [
    {
     "name": "stdout",
     "output_type": "stream",
     "text": [
      "16.0\n"
     ]
    }
   ],
   "source": [
    "str1=float(input(\"Length:\"))\n",
    "str2=float(input(\"Width:\"))\n",
    "\n",
    "sum_str=2*(str1+str2)\n",
    "\n",
    "print(sum_str)"
   ]
  },
  {
   "cell_type": "code",
   "execution_count": 9,
   "metadata": {},
   "outputs": [
    {
     "name": "stdout",
     "output_type": "stream",
     "text": [
      "Circumference of the circle is:  62.83\n",
      "Area of the circle is:  314.16\n"
     ]
    }
   ],
   "source": [
    "import math\n",
    "radius = float(input(\"Enter the radius of the circle: \"))\n",
    "circumference = 2 * math.pi * radius\n",
    "area = math.pi * radius ** 2\n",
    "print(\"Circumference of the circle is: \", round(circumference, 2))\n",
    "print(\"Area of the circle is: \", round(area, 2))"
   ]
  },
  {
   "cell_type": "code",
   "execution_count": 10,
   "metadata": {},
   "outputs": [
    {
     "data": {
      "text/plain": [
       "array([5, 7, 9])"
      ]
     },
     "execution_count": 10,
     "metadata": {},
     "output_type": "execute_result"
    }
   ],
   "source": [
    "import numpy as np\n",
    "a=[1,2,3]\n",
    "b=[4,5,6]\n",
    "np.add(a,b)"
   ]
  },
  {
   "cell_type": "code",
   "execution_count": 14,
   "metadata": {},
   "outputs": [
    {
     "name": "stdout",
     "output_type": "stream",
     "text": [
      "0\n",
      "2\n"
     ]
    }
   ],
   "source": [
    "for x in range (0, 4, 2):\n",
    "    print(x)"
   ]
  },
  {
   "cell_type": "code",
   "execution_count": 16,
   "metadata": {},
   "outputs": [
    {
     "name": "stdout",
     "output_type": "stream",
     "text": [
      "0  squared is:  0\n",
      "1  squared is:  1\n",
      "2  squared is:  4\n",
      "3  squared is:  9\n",
      "4  squared is:  16\n",
      "5  squared is:  25\n",
      "6  squared is:  36\n",
      "7  squared is:  49\n",
      "8  squared is:  64\n",
      "9  squared is:  81\n",
      "10  squared is:  100\n",
      "11  squared is:  121\n",
      "12  squared is:  144\n",
      "13  squared is:  169\n",
      "14  squared is:  196\n",
      "15  squared is:  225\n",
      "16  squared is:  256\n",
      "17  squared is:  289\n",
      "18  squared is:  324\n"
     ]
    }
   ],
   "source": [
    "for x in range(0,19):\n",
    "    print (x,\" squared is: \", x*x)"
   ]
  },
  {
   "cell_type": "code",
   "execution_count": 17,
   "metadata": {},
   "outputs": [
    {
     "name": "stdout",
     "output_type": "stream",
     "text": [
      "1\n",
      "2\n",
      "3\n",
      "4\n"
     ]
    }
   ],
   "source": [
    "a=1\n",
    "while a<5:\n",
    "    print(a)\n",
    "    a=a+1"
   ]
  },
  {
   "cell_type": "code",
   "execution_count": 18,
   "metadata": {},
   "outputs": [
    {
     "name": "stdout",
     "output_type": "stream",
     "text": [
      "hello\n",
      "hello\n",
      "hello\n",
      "hello\n",
      "hello\n"
     ]
    }
   ],
   "source": [
    "message = input(\"Enter the message: \")\n",
    "num_times = int(input(\"Enter the number of times: \"))\n",
    "for i in range(num_times):\n",
    "  print(message)\n"
   ]
  },
  {
   "cell_type": "code",
   "execution_count": 19,
   "metadata": {},
   "outputs": [
    {
     "name": "stdout",
     "output_type": "stream",
     "text": [
      "x is less than y\n"
     ]
    }
   ],
   "source": [
    "x = 10\n",
    "y = 15\n",
    "\n",
    "if x > y:\n",
    "  print(\"x is greater than y\")\n",
    "elif x < y:\n",
    "  print(\"x is less than y\")\n",
    "else:\n",
    "  print(\"x is equal to y\")\n"
   ]
  },
  {
   "cell_type": "code",
   "execution_count": 20,
   "metadata": {},
   "outputs": [
    {
     "name": "stdout",
     "output_type": "stream",
     "text": [
      "x is equal to y\n"
     ]
    }
   ],
   "source": [
    "x = int(input(\"Enter the first number: \"))\n",
    "y = int(input(\"Enter the second number: \"))\n",
    "\n",
    "if x > y:\n",
    "    print(\"x is greater than y\")\n",
    "elif x < y:\n",
    "    print(\"x is less than y\")\n",
    "else:\n",
    "    print(\"x is equal to y\")"
   ]
  },
  {
   "cell_type": "code",
   "execution_count": 23,
   "metadata": {},
   "outputs": [
    {
     "name": "stdout",
     "output_type": "stream",
     "text": [
      "Please provide a valid input.\n"
     ]
    }
   ],
   "source": [
    "def calculate_bmi(weight, height):\n",
    "\n",
    "  if weight <= 0 or height <= 0:\n",
    "    print(\"Please provide a valid input.\")\n",
    "    return\n",
    "\n",
    "  bmi = weight / (height * height)\n",
    "  return round(bmi, 1)\n",
    "\n",
    "def get_bmi_risk(bmi):\n",
    "\n",
    "  if bmi < 18.5:\n",
    "    return \"Underweight\"\n",
    "  elif bmi < 25:\n",
    "    return \"Normal\"\n",
    "  elif bmi < 30:\n",
    "    return \"Overweight\"\n",
    "  else:\n",
    "    return \"Obese\"\n",
    "\n",
    "weight = float(input(\"Enter your weight in kilograms: \"))\n",
    "height = float(input(\"Enter your height in meters: \"))\n",
    "\n",
    "bmi = calculate_bmi(weight, height)\n",
    "\n",
    "if bmi is not None:\n",
    "  print(f\"Your BMI is {bmi}.\")\n",
    "  print(f\"Your BMI risk is {get_bmi_risk(bmi)}.\")\n"
   ]
  }
 ],
 "metadata": {
  "kernelspec": {
   "display_name": "Python 3",
   "language": "python",
   "name": "python3"
  },
  "language_info": {
   "codemirror_mode": {
    "name": "ipython",
    "version": 3
   },
   "file_extension": ".py",
   "mimetype": "text/x-python",
   "name": "python",
   "nbconvert_exporter": "python",
   "pygments_lexer": "ipython3",
   "version": "3.11.0"
  }
 },
 "nbformat": 4,
 "nbformat_minor": 2
}
